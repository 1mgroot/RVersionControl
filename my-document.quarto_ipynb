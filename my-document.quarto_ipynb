{
  "cells": [
    {
      "cell_type": "markdown",
      "metadata": {},
      "source": [
        "---\n",
        "title: \"My Analysis\"\n",
        "author: \"Your Name\"\n",
        "format: html\n",
        "execute:\n",
        "  freeze: auto\n",
        "  python:\n",
        "    type: venv\n",
        "    name: .venv\n",
        "    requirements: requirements.txt\n",
        "\n",
        "---\n",
        "\n",
        "\n",
        "# Introduction\n",
        "\n",
        "This document will demonstrate reproducible code execution. When you render this Quarto document, Quarto will:\n",
        "\n",
        "-   Create a Python virtual environment.\n",
        "-   Install all packages listed in `requirements.txt`.\n",
        "-   Execute all code chunks in that environment.\n",
        "\n",
        "You don’t need to do anything else. Just open `my-document.qmd` in RStudio and click \"Render.\" Everyone who gets this project with the `_quarto.yml` and `requirements.txt` will have the same environment.\n",
        "\n",
        "## Python Code Example\n"
      ],
      "id": "2f26dae8"
    }
  ],
  "metadata": {
    "kernelspec": {
      "display_name": "Python 3",
      "language": "python",
      "name": "python3"
    }
  },
  "nbformat": 4,
  "nbformat_minor": 5
}